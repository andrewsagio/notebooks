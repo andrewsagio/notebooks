{
 "cells": [
  {
   "cell_type": "markdown",
   "metadata": {},
   "source": [
    "## Bezout's identity:\n",
    "\n",
    "Let $d$ is g.c.d. of $a$ and $b$\n",
    "\n",
    "$d$ can be written as $d=ax+by$ for some integers $x$ and $y$. \n",
    "\n",
    "In particular, if $a$ and $b$ are relative prime, we can write $ax+by=1$ for  some integers $x$ and $y$.\n"
   ]
  },
  {
   "cell_type": "markdown",
   "metadata": {},
   "source": [
    "### Proof:\n",
    "    \n",
    "Let S be a set $ax+by$ where $x,y \\in \\mathbb{Z}$. Let $d = sa+tb$ be the least positive member of S.\n",
    "\n",
    "We first prove $d$ divides both $a$ and $b$. The division of $a$ by $d$ can be written as quotient-reminder form:\n",
    "<br/>\n",
    "$a = qd+r$, where $0\\leq r <d$ for some integer $q$.\n",
    "<br/>\n",
    "Now we need to show $r=0$:\n",
    "<br/>\n",
    "$r = a - qd = a - q (sa+tb) = a(1-qs) + b(qt)$ is also a member of S. But since $0\\leq r <d$ and $d$ is the least positive member of S, $r =0$. So $d$ divides $a$. \n",
    "<br/>\n",
    "Same proof can be applied to $b$ so $d$ divides $b$. \n",
    "\n",
    "Now we proof $d$ is not only a divisor of $a$ and $b$, but also the g.c.d. \n",
    "<br/>\n",
    "For any divisor $c|a,b$, $c$ also divides $d$ since $d = sa+tb$. So $d$ is the g.c.d."
   ]
  },
  {
   "cell_type": "markdown",
   "metadata": {},
   "source": [
    "### Results\n",
    "Multiplication over $\\mathbb{Z}/n\\mathbb{Z}$ is a group only if $n$ is prime\n",
    "\n",
    "Proof: For all $a$ in $\\mathbb{Z}/n\\mathbb{Z}$, we use Bezout's identity to  write $ax+ny=1$ which implies $\\bar{a}\\bar{b}=\\bar{1}$, which means each elemnet has inverse."
   ]
  }
 ],
 "metadata": {
  "kernelspec": {
   "display_name": "Python 2",
   "language": "python",
   "name": "python2"
  },
  "language_info": {
   "codemirror_mode": {
    "name": "ipython",
    "version": 2
   },
   "file_extension": ".py",
   "mimetype": "text/x-python",
   "name": "python",
   "nbconvert_exporter": "python",
   "pygments_lexer": "ipython2",
   "version": "2.7.6"
  }
 },
 "nbformat": 4,
 "nbformat_minor": 1
}
